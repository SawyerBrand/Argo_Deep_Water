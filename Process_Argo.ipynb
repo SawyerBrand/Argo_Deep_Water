{
 "cells": [
  {
   "cell_type": "code",
   "execution_count": 4,
   "metadata": {},
   "outputs": [],
   "source": [
    "# Just import everything thats needed\n",
    "\n",
    "import numpy as np\n",
    "import pandas as pd  \n",
    "from netCDF4 import Dataset, num2date # netCDF4 handles netCDF files\n",
    "import array\n",
    "import gsw\n",
    "\n",
    "import cartopy.crs as ccrs\n",
    "import cartopy\n",
    "\n",
    "import matplotlib.pyplot as plt # matplotlib contains functions for graphics and plot manipulation\n",
    "\n",
    "import glob\n",
    "\n",
    "from netCDF4 import Dataset, MFDataset, num2date\n",
    "import matplotlib.pylab as plt\n",
    "%matplotlib inline\n",
    "import numpy as np\n",
    "from matplotlib import cm\n",
    "import cartopy\n",
    "import cartopy.crs as ccrs\n",
    "import cartopy.feature as cfeature\n",
    "import matplotlib.pyplot as plt\n",
    "import matplotlib.ticker as mticker\n",
    "\n",
    "from cartopy.mpl.gridliner import LONGITUDE_FORMATTER, LATITUDE_FORMATTER\n",
    "\n"
   ]
  },
  {
   "cell_type": "code",
   "execution_count": 5,
   "metadata": {},
   "outputs": [],
   "source": [
    "# this will go through all the profiles I have right now, while also breaking them up into pieces so I can comment out \n",
    "# some of them to only look at a certain number at a time\n",
    "\n",
    "files1 = sorted(glob.glob('19*/profiles/*.nc'))\n",
    "files2 = sorted(glob.glob('29*/profiles/*.nc'))\n",
    "files3 = sorted(glob.glob('39*/profiles/*.nc'))\n",
    "files4 = sorted(glob.glob('49*/profiles/*.nc'))\n",
    "files5 = sorted(glob.glob('59*/profiles/*.nc'))\n",
    "files6 = sorted(glob.glob('69*/profiles/*.nc'))\n",
    "files7 = sorted(glob.glob('79*/profiles/*.nc'))\n",
    "\n",
    "fil = files1+files2+files3+files4+files5+files6+files7;\n",
    "\n",
    "\n",
    "#nc = Dataset(files,'r')\n",
    "\n",
    "#file = \"1900204/profiles/D1900204_120.nc\"\n",
    "\n",
    "#nc = Dataset(file,'r')"
   ]
  },
  {
   "cell_type": "code",
   "execution_count": 6,
   "metadata": {},
   "outputs": [],
   "source": [
    "# Lauren's function for interpolation:\n",
    "\n",
    "#define function to interpolate the data onto the standard depth grid given by x_int\n",
    "def interpolate(x_int, xvals, yvals):\n",
    "    yvals_int = []\n",
    "    for n in range(0, len(yvals)):\n",
    "        yvals_int.append(np.interp(x_int, xvals[n, :], yvals[n, :]))\n",
    "    #convert the interpolated data from a list to numpy array\n",
    "    return np.asarray(yvals_int)"
   ]
  },
  {
   "cell_type": "code",
   "execution_count": 8,
   "metadata": {},
   "outputs": [
    {
     "name": "stderr",
     "output_type": "stream",
     "text": [
      "/Users/soybean/anaconda3/lib/python3.7/site-packages/ipykernel_launcher.py:39: RuntimeWarning: invalid value encountered in less\n",
      "/Users/soybean/anaconda3/lib/python3.7/site-packages/ipykernel_launcher.py:39: RuntimeWarning: invalid value encountered in greater\n"
     ]
    },
    {
     "name": "stdout",
     "output_type": "stream",
     "text": [
      "--- 42.91015100479126 seconds ---\n"
     ]
    }
   ],
   "source": [
    "import time\n",
    "start_time = time.time()\n",
    "\n",
    "#create empty arrays to append to:\n",
    "Lon = np.asarray([]);\n",
    "Lat = np.asarray([]);\n",
    "T_m = np.asarray([]);\n",
    "ct_in = np.asarray([]);\n",
    "sa_in = np.asarray([]);\n",
    "\n",
    "T_tot = np.asarray([]);\n",
    "T_cnt = np.asarray([]);\n",
    "T_varry = np.asarray([]);\n",
    "\n",
    "SA_cnt = np.asarray([]);\n",
    "SA_varry = np.asarray([]);\n",
    "\n",
    "Sal = np.asarray([]);\n",
    "\n",
    "CNT = np.asarray([]);\n",
    "CT_Lon = np.asarray([]);\n",
    "SA_Lon = np.asarray([]);\n",
    "CT_intt = np.asarray([]);\n",
    "    \n",
    "\n",
    "for k in range(-45,-44,1): #loop through lat and lon you want to use to divide into bins\n",
    "    for j in range(-45,-44,1): \n",
    "    #a = print(files[i])\n",
    "        \n",
    "        ct_in = np.asarray([]); #will create new array for each latitide/longitude \n",
    "        sa_in = np.asarray([]);\n",
    "        \n",
    "        for i in range(len(fil)):\n",
    "                nc = Dataset(fil[i]) # for the nc file currently being processes, read in the correct variables and rename for ease\n",
    "                \n",
    "                Lon_exp = nc.variables['LONGITUDE'][0]\n",
    "                Lat_exp = nc.variables['LATITUDE'][0]\n",
    "                T = nc.variables['TEMP_ADJUSTED'][:]\n",
    "                T[T>100]=np.nan;",
    "                PS = nc.variables['PSAL_ADJUSTED'][:]\n",
    "                P = nc.variables['PRES_ADJUSTED'][:]\n",
    "                \n",
    "                #SIG = gsw.sigma2(SA,CT); #calculate sigma2 for profile\n",
    "                \n",
    "                #limit to the correct sigma2 layer\n",
    "                #CT1 = CT[SIG>36.4]\n",
    "                #SA1 = SA[SIG>36.4]\n",
    "                #SIG1 = SIG[SIG>36.4]\n",
    "\n",
    "                #CT2 = CT1[SIG1<37.8]\n",
    "                #SA2 = SA1[SIG1<37.8]\n",
    "                #SIG2 = SIG1[SIG1<37.8]\n",
    "                \n",
    "                #CT2 = CT2[np.isfinite(CT2)];\n",
    "                #SA2 = SA2[np.isfinite(SA2)];\n",
    "                \n",
    "                \n",
    "                #interpolate T and PS from the original profile\n",
    "                zi = np.arange(0, 1950, 5) #interpolate data onto constant depth grid from 0 to 2000m with 5m resolution\n",
    "                T_int = interpolate(zi, P, T)\n",
    "                PS_int = interpolate(zi, P, PS)\n",
    "                \n",
    "                \n",
    "                \n",
    "                urlon = (j);\n",
    "                llon = (j+1);\n",
    "                \n",
    "                urlat = (k);\n",
    "                llat = k+1;\n",
    "                \n",
    "                if (Lat_exp <= llat)&(Lat_exp >= urlat):\n",
    "                    if(Lon_exp <= llon)&(Lon_exp >= urlon):\n",
    "                        \n",
    "                        #I will be referring to T as CT and PS as SA from here on out because of using older code for the rest of it\n",
    "                        ct_in = np.append(ct_in,T_int)\n",
    "                        sa_in = np.append(sa_in,PS_int)\n",
    "                        \n",
    "                        #print(ct_in)\n",
    "                    \n",
    "                #T_mean = np.mean(T)\n",
    "                #print(np.shape(T_mean))\n",
    "                #T_tot = np.append(T_tot,T_mean)\n",
    "                \n",
    "                nc.close()\n",
    "        ### end of going through 1 degree \n",
    "        #print(j)\n",
    "        #print(k)\n",
    "        #print(T_mean)\n",
    "        #CT_intt = np.append(CT_intt, CT_int)\n",
    "        \n",
    "        #print(ct_in)\n",
    "        #CT_Lon = np.append(CT_Lon,ct_in);\n",
    "        #if len(ct_in)>0:\n",
    "            #T_mean = np.nanmean(ct_in)\n",
    "            #print(T_mean)\n",
    "            #T_var = np.nanvar(ct_in)\n",
    "        \n",
    "        T_mean = np.mean(ct_in)\n",
    "        #print(T_mean)\n",
    "        T_var = np.var(ct_in)\n",
    "        \n",
    "        \n",
    "        #SA_Lon = np.append(SA_Lon,sa_in);\n",
    "        SA_mean = np.nanmean(sa_in)\n",
    "        SA_var = np.nanvar(sa_in)\n",
    "        S_mean = np.mean(sa_in)\n",
    "        S_var = np.var(sa_in)\n",
    "                    \n",
    "       # CNT = np.append(CNT,1)\n",
    "        \n",
    "       # Lon = np.append(Lon,urlon);\n",
    "       # Lat = np.append(Lat,urlat);\n",
    "        \n",
    "        T_cnt = np.append(T_cnt,T_mean);\n",
    "        T_varry = np.append(T_varry,T_var);\n",
    "        \n",
    "        SA_cnt = np.append(SA_cnt,SA_mean);\n",
    "        SA_varry = np.append(SA_varry,SA_var);\n",
    "        \n",
    "        \n",
    "# print('OOF')\n",
    "\n",
    "print(\"--- %s seconds ---\" % (time.time() - start_time))"
   ]
  },
  {
   "cell_type": "code",
   "execution_count": 1,
   "metadata": {},
   "outputs": [],
   "source": [
    "############## Below is not the main code"
   ]
  },
  {
   "cell_type": "code",
   "execution_count": 5,
   "metadata": {},
   "outputs": [],
   "source": [
    "file = '1900204/profiles/D1900204_120.nc'\n",
    "\n",
    "nc = Dataset(file)\n",
    "                \n",
    "Lon_exp = nc.variables['LONGITUDE'][0]\n",
    "Lat_exp = nc.variables['LATITUDE'][0]\n",
    "CT = nc.variables['TEMP_ADJUSTED'][:]\n",
    "SA = nc.variables['PSAL_ADJUSTED'][:]\n",
    "P = nc.variables['PRES_ADJUSTED'][:]\n",
    "                \n",
    "SIG = gsw.sigma2(SA,CT);\n",
    "                \n",
    "CT1 = CT[SIG>36.4]\n",
    "SA1 = SA[SIG>36.4]\n",
    "SIG1 = SIG[SIG>36.4]\n",
    "\n",
    "CT2 = CT1[SIG1<37.8]\n",
    "SA2 = SA1[SIG1<37.8]\n",
    "SIG2 = SIG1[SIG1<37.8]\n",
    "                \n",
    "#CT2 = CT2[np.isfinite(CT2)];\n",
    "#SA2 = SA2[np.isfinite(SA2)];\n",
    "                \n",
    "                \n",
    "#interpolate nitrate and poc\n",
    "zi = np.arange(0, 1950, 5) #interpolate data onto constant depth grid from 0 to 2000m with 5m resolution\n",
    "CT_int = interpolate(zi, P, CT)\n",
    "SA_int = interpolate(zi, P, SA)\n",
    "P_int = interpolate(zi,P,P)\n",
    "                "
   ]
  },
  {
   "cell_type": "code",
   "execution_count": 53,
   "metadata": {},
   "outputs": [
    {
     "data": {
      "image/png": "[encoded data removed]",
      "text/plain": [
       "<Figure size 432x432 with 1 Axes>"
      ]
     },
     "metadata": {
      "needs_background": "light"
     },
     "output_type": "display_data"
    }
   ],
   "source": [
    "plt.show()\n",
    "fig, axes = plt.subplots(1,1, figsize=(6,6))\n",
    "ax = axes\n",
    "\n",
    "plt.title('Interpolated CT profile compared to raw CT profile')\n",
    "plt.gca().invert_yaxis()\n",
    "inte=plt.plot(CT_int,P_int,'b.');\n",
    "raw=plt.plot(CT,P,'r*');\n",
    "#plt.legend((inte,raw),('hi','no'))"
   ]
  },
  {
   "cell_type": "code",
   "execution_count": 54,
   "metadata": {},
   "outputs": [
    {
     "data": {
      "image/png": "[encoded data removed]",
      "text/plain": [
       "<Figure size 432x432 with 1 Axes>"
      ]
     },
     "metadata": {
      "needs_background": "light"
     },
     "output_type": "display_data"
    }
   ],
   "source": [
    "plt.show()\n",
    "fig, axes = plt.subplots(1,1, figsize=(6,6))\n",
    "ax = axes\n",
    "\n",
    "plt.title('Interpolated SA profile compared to raw SA profile')\n",
    "plt.gca().invert_yaxis()\n",
    "inte=plt.plot(SA_int,P_int,'k.');\n",
    "raw=plt.plot(SA,P,'c*');"
   ]
  },
  {
   "cell_type": "code",
   "execution_count": null,
   "metadata": {},
   "outputs": [],
   "source": []
  },
  {
   "cell_type": "code",
   "execution_count": null,
   "metadata": {},
   "outputs": [],
   "source": []
  },
  {
   "cell_type": "code",
   "execution_count": 29,
   "metadata": {},
   "outputs": [
    {
     "name": "stderr",
     "output_type": "stream",
     "text": [
      "/Users/soybean/anaconda3/lib/python3.7/site-packages/ipykernel_launcher.py:42: RuntimeWarning: invalid value encountered in greater\n",
      "/Users/soybean/anaconda3/lib/python3.7/site-packages/ipykernel_launcher.py:43: RuntimeWarning: invalid value encountered in greater\n",
      "/Users/soybean/anaconda3/lib/python3.7/site-packages/ipykernel_launcher.py:44: RuntimeWarning: invalid value encountered in greater\n",
      "/Users/soybean/anaconda3/lib/python3.7/site-packages/ipykernel_launcher.py:37: RuntimeWarning: invalid value encountered in less\n",
      "/Users/soybean/anaconda3/lib/python3.7/site-packages/ipykernel_launcher.py:37: RuntimeWarning: invalid value encountered in greater\n"
     ]
    },
    {
     "name": "stdout",
     "output_type": "stream",
     "text": [
      "--- 2454.3836619853973 seconds ---\n"
     ]
    }
   ],
   "source": [
    "import time\n",
    "start_time = time.time()\n",
    "\n",
    "Lon = np.asarray([]);\n",
    "Lat = np.asarray([]);\n",
    "T_m = np.asarray([]);\n",
    "ct_in = np.asarray([]);\n",
    "sa_in = np.asarray([]);\n",
    "\n",
    "T_tot = np.asarray([]);\n",
    "T_cnt = np.asarray([]);\n",
    "T_varry = np.asarray([]);\n",
    "\n",
    "SA_cnt = np.asarray([]);\n",
    "SA_varry = np.asarray([]);\n",
    "\n",
    "Sal = np.asarray([]);\n",
    "\n",
    "CNT = np.asarray([]);\n",
    "CT_Lon = np.asarray([]);\n",
    "SA_Lon = np.asarray([]);\n",
    "CT_intt = np.asarray([]);\n",
    "    \n",
    "for k in range(-45,-41,1):\n",
    "    for j in range(-45,-41,1): \n",
    "    #a = print(files[i])\n",
    "        \n",
    "        ct_in = np.asarray([]);\n",
    "        sa_in = np.asarray([]);\n",
    "        \n",
    "        for i in range(len(fil)):\n",
    "                nc = Dataset(fil[i])\n",
    "                \n",
    "                Lon_exp = nc.variables['LONGITUDE'][0]\n",
    "                Lat_exp = nc.variables['LATITUDE'][0]\n",
    "                CT = nc.variables['TEMP_ADJUSTED'][:]\n",
    "                SA = nc.variables['PSAL_ADJUSTED'][:]\n",
    "                P = nc.variables['PRES_ADJUSTED'][:]\n",
    "                \n",
    "                SIG = gsw.sigma2(SA,CT);\n",
    "                \n",
    "                CT1 = CT[SIG>36.4]\n",
    "                SA1 = SA[SIG>36.4]\n",
    "                SIG1 = SIG[SIG>36.4]\n",
    "\n",
    "                CT2 = CT1[SIG1<37.8]\n",
    "                SA2 = SA1[SIG1<37.8]\n",
    "                SIG2 = SIG1[SIG1<37.8]\n",
    "                \n",
    "                #CT2 = CT2[np.isfinite(CT2)];\n",
    "                #SA2 = SA2[np.isfinite(SA2)];\n",
    "                \n",
    "                \n",
    "                #interpolate nitrate and poc\n",
    "                zi = np.arange(0, 1950, 5) #interpolate data onto constant depth grid from 0 to 2000m with 5m resolution\n",
    "                CT_int = interpolate(zi, P, CT)\n",
    "                SA_int = interpolate(zi, P, SA)\n",
    "                \n",
    "                \n",
    "                \n",
    "                urlon = (j);\n",
    "                llon = (j+1);\n",
    "                \n",
    "                urlat = (k);\n",
    "                llat = k+1;\n",
    "                \n",
    "                if (Lat_exp <= llat)&(Lat_exp >= urlat):\n",
    "                    if(Lon_exp <= llon)&(Lon_exp >= urlon):\n",
    "                        \n",
    "                        ct_in = np.append(ct_in,CT_int)\n",
    "                        sa_in = np.append(sa_in,SA_int)\n",
    "                        \n",
    "                        #print(ct_in)\n",
    "                    \n",
    "                #T_mean = np.mean(T)\n",
    "                #print(np.shape(T_mean))\n",
    "                #T_tot = np.append(T_tot,T_mean)\n",
    "                \n",
    "                nc.close()\n",
    "        ### end of going through 1 degree \n",
    "        #print(j)\n",
    "        #print(k)\n",
    "        #print(T_mean)\n",
    "        #CT_intt = np.append(CT_intt, CT_int)\n",
    "        \n",
    "        #print(ct_in)\n",
    "        #CT_Lon = np.append(CT_Lon,ct_in);\n",
    "        #if len(ct_in)>0:\n",
    "            #T_mean = np.nanmean(ct_in)\n",
    "            #print(T_mean)\n",
    "            #T_var = np.nanvar(ct_in)\n",
    "        \n",
    "        T_mean = np.mean(ct_in)\n",
    "        #print(T_mean)\n",
    "        T_var = np.var(ct_in)\n",
    "        \n",
    "        \n",
    "        #SA_Lon = np.append(SA_Lon,sa_in);\n",
    "        SA_mean = np.nanmean(sa_in)\n",
    "        SA_var = np.nanvar(sa_in)\n",
    "        S_mean = np.mean(sa_in)\n",
    "        S_var = np.var(sa_in)\n",
    "                    \n",
    "       # CNT = np.append(CNT,1)\n",
    "        \n",
    "       # Lon = np.append(Lon,urlon);\n",
    "       # Lat = np.append(Lat,urlat);\n",
    "        \n",
    "        T_cnt = np.append(T_cnt,T_mean);\n",
    "        T_varry = np.append(T_varry,T_var);\n",
    "        \n",
    "        SA_cnt = np.append(SA_cnt,SA_mean);\n",
    "        SA_varry = np.append(SA_varry,SA_var);\n",
    "        \n",
    "        \n",
    "# print('OOF')\n",
    "\n",
    "print(\"--- %s seconds ---\" % (time.time() - start_time))"
   ]
  },
  {
   "cell_type": "code",
   "execution_count": 19,
   "metadata": {},
   "outputs": [],
   "source": [
    "np.savetxt(\"Arg_Basin_Data_Lon\", Lon, newline=\" \")\n",
    "np.savetxt(\"Arg_Basin_Data_Lat\", Lat, newline=\" \")\n",
    "np.savetxt(\"Arg_Basin_Data_CT_mean_1D\", T_cnt, newline=\" \")\n",
    "np.savetxt(\"Arg_Basin_Data_CT_var_1D\", T_varry, newline=\" \")\n",
    "np.savetxt(\"Arg_Basin_Data_SA_mean_1D\", SA_cnt, newline=\" \")\n",
    "np.savetxt(\"Arg_Basin_Data_SA_var_1D\", SA_varry, newline=\" \")"
   ]
  },
  {
   "cell_type": "markdown",
   "metadata": {},
   "source": [
    "# T_cnt"
   ]
  },
  {
   "cell_type": "code",
   "execution_count": 9,
   "metadata": {},
   "outputs": [
    {
     "data": {
      "text/plain": [
       "array([28587.22221846])"
      ]
     },
     "execution_count": 9,
     "metadata": {},
     "output_type": "execute_result"
    }
   ],
   "source": [
    "T_cnt"
   ]
  },
  {
   "cell_type": "code",
   "execution_count": 21,
   "metadata": {},
   "outputs": [
    {
     "ename": "NameError",
     "evalue": "name 'ct_int' is not defined",
     "output_type": "error",
     "traceback": [
      "\u001b[0;31m---------------------------------------------------------------------------\u001b[0m",
      "\u001b[0;31mNameError\u001b[0m                                 Traceback (most recent call last)",
      "\u001b[0;32m<ipython-input-21-6e3513b81dd8>\u001b[0m in \u001b[0;36m<module>\u001b[0;34m\u001b[0m\n\u001b[0;32m----> 1\u001b[0;31m \u001b[0mct_int\u001b[0m\u001b[0;34m\u001b[0m\u001b[0;34m\u001b[0m\u001b[0m\n\u001b[0m",
      "\u001b[0;31mNameError\u001b[0m: name 'ct_int' is not defined"
     ]
    }
   ],
   "source": [
    "ct_int"
   ]
  },
  {
   "cell_type": "code",
   "execution_count": 61,
   "metadata": {},
   "outputs": [
    {
     "data": {
      "text/plain": [
       "masked_array(data=[[   5.2999997,   10.       ,   19.5      ,\n",
       "                      30.1      ,   40.1      ,   49.5      ,\n",
       "                      60.       ,   69.7      ,   80.299995 ,\n",
       "                      90.       ,   99.9      ,  109.9      ,\n",
       "                     119.799995 ,  129.5      ,  139.40001  ,\n",
       "                     149.3      ,  159.3      ,  169.90001  ,\n",
       "                     179.6      ,  189.70001  ,  199.8      ,\n",
       "                     209.3      ,  219.6      ,  229.       ,\n",
       "                     239.6      ,  249.5      ,  259.       ,\n",
       "                     269.5      ,  279.       ,  289.       ,\n",
       "                     299.6      ,  309.       ,  320.       ,\n",
       "                     329.80002  ,  339.80002  ,  349.80002  ,\n",
       "                     359.9      ,  379.30002  ,  399.       ,\n",
       "                     449.4      ,  499.30002  ,  550.1      ,\n",
       "                     599.5      ,  649.39996  ,  699.89996  ,\n",
       "                     749.5      ,  799.8      ,  850.       ,\n",
       "                     899.5      ,  949.39996  ,  997.5      ,\n",
       "                    1050.       , 1100.       , 1149.5      ,\n",
       "                    1199.5      , 1250.       , 1299.4      ,\n",
       "                    1350.       , 1399.4      , 1449.5      ,\n",
       "                    1499.       , 1549.9      , 1599.7      ,\n",
       "                    1649.4      , 1699.7      , 1750.1      ,\n",
       "                    1799.9      , 1849.7      , 1899.5      ,\n",
       "                    1949.5      ]],\n",
       "             mask=False,\n",
       "       fill_value=1e+20,\n",
       "            dtype=float32)"
      ]
     },
     "execution_count": 61,
     "metadata": {},
     "output_type": "execute_result"
    }
   ],
   "source": [
    "P"
   ]
  },
  {
   "cell_type": "code",
   "execution_count": 63,
   "metadata": {},
   "outputs": [
    {
     "data": {
      "text/plain": [
       "array([], dtype=float64)"
      ]
     },
     "execution_count": 63,
     "metadata": {},
     "output_type": "execute_result"
    }
   ],
   "source": [
    "ct_in"
   ]
  },
  {
   "cell_type": "code",
   "execution_count": null,
   "metadata": {},
   "outputs": [],
   "source": []
  }
 ],
 "metadata": {
  "kernelspec": {
   "display_name": "Python 3",
   "language": "python",
   "name": "python3"
  },
  "language_info": {
   "codemirror_mode": {
    "name": "ipython",
    "version": 3
   },
   "file_extension": ".py",
   "mimetype": "text/x-python",
   "name": "python",
   "nbconvert_exporter": "python",
   "pygments_lexer": "ipython3",
   "version": "3.7.3"
  }
 },
 "nbformat": 4,
 "nbformat_minor": 2
}
